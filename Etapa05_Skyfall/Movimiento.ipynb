{
 "cells": [
  {
   "cell_type": "code",
   "execution_count": 1,
   "id": "6eb48250",
   "metadata": {},
   "outputs": [],
   "source": [
    "import sys, rospy, tf, moveit_commander, random\n",
    "from geometry_msgs.msg import Pose, Point, Quaternion \n",
    "from math import pi\n",
    "import time\n",
    "from sensor_msgs.msg import LaserScan\n",
    "from geometry_msgs.msg import Twist\n",
    "import smach\n",
    "import ros_numpy\n",
    "from utils_evasion import *"
   ]
  },
  {
   "cell_type": "code",
   "execution_count": 2,
   "id": "79bb0f29",
   "metadata": {},
   "outputs": [],
   "source": [
    "#This is optional \n",
    "#import cv2 \n",
    "import tf as tf\n",
    "import tf2_ros as tf2\n",
    "import rospy\n",
    "import numpy as np\n",
    "import ros_numpy\n",
    "from std_msgs.msg import String\n",
    "#from tmc_msgs.msg import Voice\n",
    "#from geometry_msgs.msg import Twist, WrenchStamped, TransformStamped\n",
    "#from sensor_msgs.msg import Image as ImageMsg, PointCloud2\n",
    "import tmc_control_msgs.msg\n",
    "import trajectory_msgs.msg\n",
    "class TF_MANAGER():\n",
    "    def __init__(self):\n",
    "        self._tfbuff = tf2.Buffer()\n",
    "        self._lis = tf2.TransformListener(self._tfbuff)\n",
    "        self._tf_static_broad = tf2.StaticTransformBroadcaster()\n",
    "        self._broad = tf2.TransformBroadcaster()\n",
    "\n",
    "    def _fillMsg(self, pos = [0,0,0], rot = [0,0,0,1] ,point_name ='', ref=\"map\"):\n",
    "        TS = TransformStamped()\n",
    "        TS.header.stamp = rospy.Time.now()\n",
    "        TS.header.frame_id = ref\n",
    "        TS.child_frame_id = point_name\n",
    "        TS.transform.translation.x = pos[0]\n",
    "        TS.transform.translation.y = pos[1]\n",
    "        TS.transform.translation.z = pos[2]\n",
    "        TS.transform.rotation.x = rot[0]\n",
    "        TS.transform.rotation.y = rot[1]\n",
    "        TS.transform.rotation.z = rot[2]\n",
    "        TS.transform.rotation.w = rot[3]\n",
    "        return TS\n",
    "\n",
    "    def pub_tf(self, pos = [0,0,0], rot = [0,0,0,1] ,point_name ='', ref=\"map\"):\n",
    "        dinamic_ts = self._fillMsg(pos, rot, point_name, ref)\n",
    "        self._broad.sendTransform(dinamic_ts)\n",
    "\n",
    "    def pub_static_tf(self, pos = [0,0,0], rot = [0,0,0,1] ,point_name ='', ref=\"map\"):\n",
    "        static_ts = self._fillMsg(pos, rot, point_name, ref)\n",
    "        self._tf_static_broad.sendTransform(static_ts)\n",
    "\n",
    "    def change_ref_frame_tf(self, point_name = '', new_frame = 'map'):\n",
    "        try:\n",
    "            traf = self._tfbuff.lookup_transform(new_frame, point_name, rospy.Time(0))\n",
    "            translation, rotational = self.tf2_obj_2_arr(traf)\n",
    "            self.pub_static_tf(pos = translation, rot = rotational, point_name = point_name, ref = new_frame)\n",
    "            return True\n",
    "        except:\n",
    "            return False\n",
    "\n",
    "    def getTF(self, target_frame='', ref_frame='map'):\n",
    "        try:\n",
    "            tf = self._tfbuff.lookup_transform(ref_frame, target_frame, rospy.Time(0))\n",
    "            return self.tf2_obj_2_arr(tf)\n",
    "        except:\n",
    "            return [False,False]\n",
    "\n",
    "    def tf2_obj_2_arr(self, transf):\n",
    "        pos = []\n",
    "        pos.append(transf.transform.translation.x)\n",
    "        pos.append(transf.transform.translation.y)\n",
    "        pos.append(transf.transform.translation.z)\n",
    "    \n",
    "        rot = []\n",
    "        rot.append(transf.transform.rotation.x)\n",
    "        rot.append(transf.transform.rotation.y)\n",
    "        rot.append(transf.transform.rotation.z)\n",
    "        rot.append(transf.transform.rotation.w)\n",
    "\n",
    "        return [pos, rot]\n",
    "class GRIPPER():\n",
    "    def __init__(self):\n",
    "        self._grip_cmd_pub = rospy.Publisher('/hsrb/gripper_controller/command',\n",
    "                               trajectory_msgs.msg.JointTrajectory, queue_size=100)\n",
    "        self._grip_cmd_force = rospy.Publisher('/hsrb/gripper_controller/grasp/goal',\n",
    "        \t\t\ttmc_control_msgs.msg.GripperApplyEffortActionGoal, queue_size=100)\n",
    "        \t\t\t\n",
    "        self._joint_name = \"hand_motor_joint\"\n",
    "        self._position = 0.5\n",
    "        self._velocity = 0.5\n",
    "        self._effort = 0.0\n",
    "        self._duration = 1\n",
    "\n",
    "    def _manipulate_gripper(self):\n",
    "        traj = trajectory_msgs.msg.JointTrajectory()\n",
    "        traj.joint_names = [self._joint_name]\n",
    "        p = trajectory_msgs.msg.JointTrajectoryPoint()\n",
    "        p.positions = [self._position]\n",
    "        p.velocities = [self._velocity]\n",
    "        p.accelerations = []\n",
    "        p.effort = [self._effort]\n",
    "        p.time_from_start = rospy.Duration(self._duration)\n",
    "        traj.points = [p]\n",
    "        self._grip_cmd_pub.publish(traj)\n",
    "        \n",
    "    def _apply_force(self):\n",
    "        app_force = tmc_control_msgs.msg.GripperApplyEffortActionGoal()\n",
    "        app_force.goal.effort = -0.5\n",
    "        self._grip_cmd_force.publish(app_force)\n",
    "        \n",
    "    def change_velocity(self, newVel):\n",
    "        self._velocity = newVel\n",
    "    \n",
    "    def open(self):\n",
    "        self._position = 1.23\n",
    "        self._effort = 0\n",
    "        self._manipulate_gripper()\n",
    "\n",
    "    def steady(self):\n",
    "        self._position = -0.82\n",
    "        self._effort = -0.3\n",
    "        self._manipulate_gripper()\n",
    "        \n",
    "    def close(self):\n",
    "        self._position = -0.82\n",
    "        self._effort = -0.3\n",
    "        self._manipulate_gripper()\n",
    "        self._apply_force()\n",
    "        rospy.sleep(0.8)"
   ]
  },
  {
   "cell_type": "code",
   "execution_count": 3,
   "id": "8df439f4",
   "metadata": {},
   "outputs": [],
   "source": [
    "orient = [Quaternion (*tf.transformations.quaternion_from_euler(pi, -pi/2, -pi/2)), Quaternion (*tf.transformations.quaternion_from_euler(pi, -pi/2, -pi/2))]\n",
    "pose = [Pose(Point( 0.5, -0.5, 1.3), orient[0]), Pose(Point( 0.5, -0.5, 1.3), orient[0])]\n",
    "\n"
   ]
  },
  {
   "cell_type": "code",
   "execution_count": 4,
   "id": "766271e9",
   "metadata": {},
   "outputs": [],
   "source": [
    "moveit_commander.roscpp_initialize(sys.argv)\n",
    "#rospy.init_node('r2_wave_arm', anonymous=True)\n",
    "rospy.init_node(\"takeshi_smach\")\n",
    "base_vel_pub = rospy.Publisher('/hsrb/command_velocity', Twist, queue_size=10)\n",
    "laser = Laser() "
   ]
  },
  {
   "cell_type": "code",
   "execution_count": 5,
   "id": "e7f794a7",
   "metadata": {},
   "outputs": [
    {
     "name": "stderr",
     "output_type": "stream",
     "text": [
      "\u001b[33m[ WARN] [1668660655.084567209, 2356.016000000]: Link hand_l_finger_vacuum_frame has visual geometry but no collision geometry. Collision geometry will be left empty. Fix your URDF file by explicitly specifying collision geometry.\u001b[0m\n",
      "\u001b[33m[ WARN] [1668660655.090725598, 2356.016000000]: Link head_l_stereo_camera_link has visual geometry but no collision geometry. Collision geometry will be left empty. Fix your URDF file by explicitly specifying collision geometry.\u001b[0m\n",
      "\u001b[33m[ WARN] [1668660655.090798007, 2356.016000000]: Link head_r_stereo_camera_link has visual geometry but no collision geometry. Collision geometry will be left empty. Fix your URDF file by explicitly specifying collision geometry.\u001b[0m\n",
      "\u001b[33m[ WARN] [1668660655.093747478, 2356.016000000]: Group state 'neutral' doesn't specify all group joints in group 'arm'. wrist_ft_sensor_frame_joint is missing.\u001b[0m\n",
      "\u001b[33m[ WARN] [1668660655.093779519, 2356.016000000]: Group state 'go' doesn't specify all group joints in group 'arm'. wrist_ft_sensor_frame_joint is missing.\u001b[0m\n",
      "\u001b[33m[ WARN] [1668660655.198673694, 2356.049000000]: Kinematics solver doesn't support #attempts anymore, but only a timeout.\n",
      "Please remove the parameter '/robot_description_kinematics/arm/kinematics_solver_attempts' from your configuration.\u001b[0m\n",
      "\u001b[33m[ WARN] [1668660655.235793183, 2356.069000000]: IK plugin for group 'whole_body' relies on deprecated API. Please implement initialize(RobotModel, ...).\u001b[0m\n",
      "\u001b[33m[ WARN] [1668660655.243393707, 2356.078000000]: IK plugin for group 'whole_body_weighted' relies on deprecated API. Please implement initialize(RobotModel, ...).\u001b[0m\n",
      "\u001b[33m[ WARN] [1668660655.249477615, 2356.078000000]: IK plugin for group 'whole_body_light' relies on deprecated API. Please implement initialize(RobotModel, ...).\u001b[0m\n"
     ]
    }
   ],
   "source": [
    "arm =  moveit_commander.MoveGroupCommander('arm')\n",
    "#arm.set_named_target('go')\n",
    "#arm.go()"
   ]
  },
  {
   "cell_type": "code",
   "execution_count": 6,
   "id": "7fb7488a",
   "metadata": {},
   "outputs": [
    {
     "name": "stderr",
     "output_type": "stream",
     "text": [
      "\u001b[33m[ WARN] [1668660664.569085408, 2358.448000000]: TF_REPEATED_DATA ignoring data with redundant timestamp for frame odom at time 2358.448000 according to authority unknown_publisher\u001b[0m\n",
      "\u001b[33m[ WARN] [1668660665.708858820, 2358.841000000]: TF_REPEATED_DATA ignoring data with redundant timestamp for frame odom at time 2358.841000 according to authority unknown_publisher\u001b[0m\n",
      "\u001b[33m[ WARN] [1668660668.738395198, 2359.537000000]: TF_REPEATED_DATA ignoring data with redundant timestamp for frame odom at time 2359.537000 according to authority unknown_publisher\u001b[0m\n",
      "\u001b[33m[ WARN] [1668660671.374355333, 2360.372000000]: TF_REPEATED_DATA ignoring data with redundant timestamp for frame odom at time 2360.372000 according to authority unknown_publisher\u001b[0m\n",
      "\u001b[33m[ WARN] [1668660681.108071045, 2363.142000000]: TF_REPEATED_DATA ignoring data with redundant timestamp for frame odom at time 2363.166000 according to authority unknown_publisher\u001b[0m\n"
     ]
    },
    {
     "data": {
      "text/plain": [
       "True"
      ]
     },
     "execution_count": 6,
     "metadata": {},
     "output_type": "execute_result"
    },
    {
     "name": "stderr",
     "output_type": "stream",
     "text": [
      "\u001b[33m[ WARN] [1668660695.842522896, 2367.208000000]: TF_REPEATED_DATA ignoring data with redundant timestamp for frame odom at time 2367.208000 according to authority unknown_publisher\u001b[0m\n"
     ]
    }
   ],
   "source": [
    "# We get the joint values from the group and change some of the values:\n",
    "#Forward kinematics\n",
    "#establecemos nuestro 0,0\n",
    "joint_goal = arm.get_current_joint_values()\n",
    "joint_goal[0] = 0.0\n",
    "joint_goal[1] = 0.0\n",
    "joint_goal[2] = 0.0\n",
    "joint_goal[3] = 0.0\n",
    "joint_goal[4] = 0.0\n",
    "joint_goal[5] = 0.0\n",
    "\n",
    "arm.set_joint_value_target(joint_goal)\n",
    "arm.go()"
   ]
  },
  {
   "cell_type": "code",
   "execution_count": 7,
   "id": "c4a31e28",
   "metadata": {},
   "outputs": [
    {
     "name": "stderr",
     "output_type": "stream",
     "text": [
      "\u001b[33m[ WARN] [1668660697.647657564, 2367.729000000]: TF_REPEATED_DATA ignoring data with redundant timestamp for frame odom at time 2367.763000 according to authority unknown_publisher\u001b[0m\n",
      "\u001b[33m[ WARN] [1668660699.724082949, 2368.565000000]: TF_REPEATED_DATA ignoring data with redundant timestamp for frame odom at time 2368.565000 according to authority unknown_publisher\u001b[0m\n"
     ]
    }
   ],
   "source": [
    "#para usar el gripper\n",
    "grip = GRIPPER()"
   ]
  },
  {
   "cell_type": "code",
   "execution_count": 8,
   "id": "f8a67d13",
   "metadata": {},
   "outputs": [],
   "source": [
    "#abrimos gripper\n",
    "grip.open()"
   ]
  },
  {
   "cell_type": "code",
   "execution_count": 9,
   "id": "b4921606",
   "metadata": {},
   "outputs": [
    {
     "name": "stderr",
     "output_type": "stream",
     "text": [
      "\u001b[33m[ WARN] [1668660706.333130202, 2370.364000000]: TF_REPEATED_DATA ignoring data with redundant timestamp for frame odom at time 2370.429000 according to authority unknown_publisher\u001b[0m\n",
      "\u001b[33m[ WARN] [1668660711.658861394, 2371.726000000]: TF_REPEATED_DATA ignoring data with redundant timestamp for frame odom at time 2371.732000 according to authority unknown_publisher\u001b[0m\n",
      "\u001b[33m[ WARN] [1668660713.998824834, 2372.432000000]: TF_REPEATED_DATA ignoring data with redundant timestamp for frame odom at time 2372.479000 according to authority unknown_publisher\u001b[0m\n",
      "\u001b[33m[ WARN] [1668660723.086660473, 2375.032000000]: TF_REPEATED_DATA ignoring data with redundant timestamp for frame odom at time 2375.032000 according to authority unknown_publisher\u001b[0m\n",
      "\u001b[33m[ WARN] [1668660728.634645342, 2376.607000000]: TF_REPEATED_DATA ignoring data with redundant timestamp for frame odom at time 2376.607000 according to authority unknown_publisher\u001b[0m\n",
      "\u001b[33m[ WARN] [1668660728.785005790, 2376.646000000]: TF_REPEATED_DATA ignoring data with redundant timestamp for frame odom at time 2376.694000 according to authority unknown_publisher\u001b[0m\n",
      "\u001b[33m[ WARN] [1668660766.030929396, 2386.956000000]: TF_REPEATED_DATA ignoring data with redundant timestamp for frame odom at time 2386.960000 according to authority unknown_publisher\u001b[0m\n",
      "\u001b[33m[ WARN] [1668660769.500484555, 2388.030000000]: TF_REPEATED_DATA ignoring data with redundant timestamp for frame odom at time 2388.030000 according to authority unknown_publisher\u001b[0m\n"
     ]
    },
    {
     "data": {
      "text/plain": [
       "True"
      ]
     },
     "execution_count": 9,
     "metadata": {},
     "output_type": "execute_result"
    }
   ],
   "source": [
    "#sube cuerpo y baja el brazo a posicion deseada\n",
    "joint_goal = arm.get_current_joint_values()\n",
    "joint_goal[0] = 0.15\n",
    "joint_goal[1] = -2.1\n",
    "\n",
    "arm.set_joint_value_target(joint_goal)\n",
    "arm.go()"
   ]
  },
  {
   "cell_type": "code",
   "execution_count": 10,
   "id": "64e02798",
   "metadata": {},
   "outputs": [
    {
     "name": "stderr",
     "output_type": "stream",
     "text": [
      "\u001b[33m[ WARN] [1668660786.460374174, 2392.726000000]: TF_REPEATED_DATA ignoring data with redundant timestamp for frame odom at time 2392.726000 according to authority unknown_publisher\u001b[0m\n",
      "\u001b[33m[ WARN] [1668660786.671115261, 2392.814000000]: TF_REPEATED_DATA ignoring data with redundant timestamp for frame odom at time 2392.814000 according to authority unknown_publisher\u001b[0m\n",
      "\u001b[33m[ WARN] [1668660794.036750090, 2394.860000000]: TF_REPEATED_DATA ignoring data with redundant timestamp for frame odom at time 2394.860000 according to authority unknown_publisher\u001b[0m\n",
      "\u001b[33m[ WARN] [1668660804.782554420, 2397.504000000]: TF_REPEATED_DATA ignoring data with redundant timestamp for frame odom at time 2397.504000 according to authority unknown_publisher\u001b[0m\n",
      "\u001b[33m[ WARN] [1668660806.734024785, 2397.866000000]: TF_REPEATED_DATA ignoring data with redundant timestamp for frame odom at time 2397.895000 according to authority unknown_publisher\u001b[0m\n",
      "\u001b[33m[ WARN] [1668660808.170417031, 2398.432000000]: TF_REPEATED_DATA ignoring data with redundant timestamp for frame odom at time 2398.446000 according to authority unknown_publisher\u001b[0m\n",
      "\u001b[33m[ WARN] [1668660813.651505594, 2400.050000000]: TF_REPEATED_DATA ignoring data with redundant timestamp for frame odom at time 2400.050000 according to authority unknown_publisher\u001b[0m\n"
     ]
    },
    {
     "data": {
      "text/plain": [
       "True"
      ]
     },
     "execution_count": 10,
     "metadata": {},
     "output_type": "execute_result"
    }
   ],
   "source": [
    "#gira muñeca hacia abajo para tomar la piedra\n",
    "joint_goal = arm.get_current_joint_values()\n",
    "joint_goal[3] = -1.0\n",
    "\n",
    "arm.set_joint_value_target(joint_goal)\n",
    "arm.go()"
   ]
  },
  {
   "cell_type": "code",
   "execution_count": 11,
   "id": "c6452f32",
   "metadata": {},
   "outputs": [
    {
     "name": "stderr",
     "output_type": "stream",
     "text": [
      "\u001b[33m[ WARN] [1668660818.212428296, 2401.249000000]: TF_REPEATED_DATA ignoring data with redundant timestamp for frame odom at time 2401.249000 according to authority unknown_publisher\u001b[0m\n",
      "\u001b[33m[ WARN] [1668660822.950724915, 2402.786000000]: TF_REPEATED_DATA ignoring data with redundant timestamp for frame odom at time 2402.786000 according to authority unknown_publisher\u001b[0m\n",
      "\u001b[33m[ WARN] [1668660823.985872173, 2403.121000000]: TF_REPEATED_DATA ignoring data with redundant timestamp for frame odom at time 2403.138000 according to authority unknown_publisher\u001b[0m\n",
      "\u001b[33m[ WARN] [1668660826.728373411, 2403.678000000]: TF_REPEATED_DATA ignoring data with redundant timestamp for frame odom at time 2403.678000 according to authority unknown_publisher\u001b[0m\n"
     ]
    },
    {
     "data": {
      "text/plain": [
       "True"
      ]
     },
     "execution_count": 11,
     "metadata": {},
     "output_type": "execute_result"
    },
    {
     "name": "stderr",
     "output_type": "stream",
     "text": [
      "\u001b[33m[ WARN] [1668660848.630474066, 2408.897000000]: TF_REPEATED_DATA ignoring data with redundant timestamp for frame odom at time 2408.936000 according to authority unknown_publisher\u001b[0m\n",
      "\u001b[33m[ WARN] [1668660851.940006997, 2409.929000000]: TF_REPEATED_DATA ignoring data with redundant timestamp for frame odom at time 2409.968000 according to authority unknown_publisher\u001b[0m\n",
      "\u001b[33m[ WARN] [1668660881.806635556, 2418.181000000]: TF_REPEATED_DATA ignoring data with redundant timestamp for frame odom at time 2418.181000 according to authority unknown_publisher\u001b[0m\n",
      "\u001b[33m[ WARN] [1668660907.319190352, 2425.152000000]: TF_REPEATED_DATA ignoring data with redundant timestamp for frame odom at time 2425.178000 according to authority unknown_publisher\u001b[0m\n",
      "\u001b[33m[ WARN] [1668660916.539630606, 2427.356000000]: TF_REPEATED_DATA ignoring data with redundant timestamp for frame odom at time 2427.382000 according to authority unknown_publisher\u001b[0m\n",
      "\u001b[33m[ WARN] [1668660928.320624804, 2430.828000000]: TF_REPEATED_DATA ignoring data with redundant timestamp for frame odom at time 2430.842000 according to authority unknown_publisher\u001b[0m\n",
      "\u001b[33m[ WARN] [1668660950.417015119, 2436.169000000]: TF_REPEATED_DATA ignoring data with redundant timestamp for frame odom at time 2436.215000 according to authority unknown_publisher\u001b[0m\n",
      "\u001b[33m[ WARN] [1668660964.139919914, 2440.156000000]: TF_REPEATED_DATA ignoring data with redundant timestamp for frame odom at time 2440.191000 according to authority unknown_publisher\u001b[0m\n",
      "\u001b[33m[ WARN] [1668660967.783309932, 2441.252000000]: TF_REPEATED_DATA ignoring data with redundant timestamp for frame odom at time 2441.290000 according to authority unknown_publisher\u001b[0m\n",
      "\u001b[33m[ WARN] [1668660970.425117003, 2442.224000000]: TF_REPEATED_DATA ignoring data with redundant timestamp for frame odom at time 2442.259000 according to authority unknown_publisher\u001b[0m\n",
      "\u001b[33m[ WARN] [1668660977.481386469, 2444.291000000]: TF_REPEATED_DATA ignoring data with redundant timestamp for frame odom at time 2444.291000 according to authority unknown_publisher\u001b[0m\n",
      "\u001b[33m[ WARN] [1668660983.233608626, 2445.128000000]: TF_REPEATED_DATA ignoring data with redundant timestamp for frame odom at time 2445.176000 according to authority unknown_publisher\u001b[0m\n",
      "\u001b[33m[ WARN] [1668661018.150456656, 2454.036000000]: TF_REPEATED_DATA ignoring data with redundant timestamp for frame odom at time 2454.036000 according to authority unknown_publisher\u001b[0m\n",
      "\u001b[33m[ WARN] [1668661059.637140126, 2465.391000000]: TF_REPEATED_DATA ignoring data with redundant timestamp for frame odom at time 2465.450000 according to authority unknown_publisher\u001b[0m\n",
      "\u001b[33m[ WARN] [1668661067.722942617, 2467.522000000]: TF_REPEATED_DATA ignoring data with redundant timestamp for frame odom at time 2467.522000 according to authority unknown_publisher\u001b[0m\n"
     ]
    }
   ],
   "source": [
    "#baja a tomar la piedra\n",
    "joint_goal = arm.get_current_joint_values()\n",
    "joint_goal[0] = 0.09\n",
    "\n",
    "arm.set_joint_value_target(joint_goal)\n",
    "arm.go()"
   ]
  },
  {
   "cell_type": "code",
   "execution_count": 12,
   "id": "c49bbfb0",
   "metadata": {},
   "outputs": [],
   "source": [
    "#cierra el gripper tomando la piedra\n",
    "grip.close()"
   ]
  },
  {
   "cell_type": "code",
   "execution_count": 13,
   "id": "3a89f80e",
   "metadata": {},
   "outputs": [
    {
     "name": "stderr",
     "output_type": "stream",
     "text": [
      "\u001b[33m[ WARN] [1668661136.151873709, 2480.284000000]: TF_REPEATED_DATA ignoring data with redundant timestamp for frame odom at time 2480.284000 according to authority unknown_publisher\u001b[0m\n",
      "\u001b[33m[ WARN] [1668661270.131760771, 2504.632000000]: TF_REPEATED_DATA ignoring data with redundant timestamp for frame odom at time 2504.641000 according to authority unknown_publisher\u001b[0m\n"
     ]
    },
    {
     "data": {
      "text/plain": [
       "True"
      ]
     },
     "execution_count": 13,
     "metadata": {},
     "output_type": "execute_result"
    },
    {
     "name": "stderr",
     "output_type": "stream",
     "text": [
      "\u001b[33m[ WARN] [1668661338.544976420, 2518.731000000]: TF_REPEATED_DATA ignoring data with redundant timestamp for frame odom at time 2518.791000 according to authority unknown_publisher\u001b[0m\n",
      "\u001b[33m[ WARN] [1668661339.252867234, 2518.930000000]: TF_REPEATED_DATA ignoring data with redundant timestamp for frame odom at time 2518.930000 according to authority unknown_publisher\u001b[0m\n",
      "\u001b[33m[ WARN] [1668661340.242940793, 2519.228000000]: TF_REPEATED_DATA ignoring data with redundant timestamp for frame odom at time 2519.228000 according to authority unknown_publisher\u001b[0m\n",
      "\u001b[33m[ WARN] [1668661357.180045356, 2522.793000000]: TF_REPEATED_DATA ignoring data with redundant timestamp for frame odom at time 2522.793000 according to authority unknown_publisher\u001b[0m\n",
      "\u001b[33m[ WARN] [1668661382.304806551, 2527.965000000]: TF_REPEATED_DATA ignoring data with redundant timestamp for frame odom at time 2527.985000 according to authority unknown_publisher\u001b[0m\n",
      "\u001b[33m[ WARN] [1668661395.944604072, 2531.017000000]: TF_REPEATED_DATA ignoring data with redundant timestamp for frame odom at time 2531.017000 according to authority unknown_publisher\u001b[0m\n",
      "\u001b[33m[ WARN] [1668661466.964040294, 2546.381000000]: TF_REPEATED_DATA ignoring data with redundant timestamp for frame odom at time 2546.381000 according to authority unknown_publisher\u001b[0m\n",
      "\u001b[33m[ WARN] [1668661470.801202133, 2547.237000000]: TF_REPEATED_DATA ignoring data with redundant timestamp for frame odom at time 2547.297000 according to authority unknown_publisher\u001b[0m\n",
      "\u001b[33m[ WARN] [1668661471.546573957, 2547.578000000]: TF_REPEATED_DATA ignoring data with redundant timestamp for frame odom at time 2547.578000 according to authority unknown_publisher\u001b[0m\n",
      "\u001b[33m[ WARN] [1668661483.712160678, 2550.362000000]: TF_REPEATED_DATA ignoring data with redundant timestamp for frame odom at time 2550.362000 according to authority unknown_publisher\u001b[0m\n",
      "\u001b[33m[ WARN] [1668661505.025347544, 2555.157000000]: TF_REPEATED_DATA ignoring data with redundant timestamp for frame odom at time 2555.157000 according to authority unknown_publisher\u001b[0m\n"
     ]
    }
   ],
   "source": [
    "#nos regresa a 0,0 con la piedra\n",
    "joint_goal = arm.get_current_joint_values()\n",
    "joint_goal[0] = 0.0\n",
    "joint_goal[1] = 0.0\n",
    "joint_goal[2] = 0.0\n",
    "joint_goal[3] = 0.0\n",
    "joint_goal[4] = 0.0\n",
    "joint_goal[5] = 0.0\n",
    "\n",
    "arm.set_joint_value_target(joint_goal)\n",
    "arm.go()"
   ]
  },
  {
   "cell_type": "code",
   "execution_count": 14,
   "id": "a3b1e691",
   "metadata": {},
   "outputs": [],
   "source": [
    "####caminamos ala mesa de las piedras#####3"
   ]
  },
  {
   "cell_type": "code",
   "execution_count": 15,
   "id": "a158aa54",
   "metadata": {},
   "outputs": [],
   "source": [
    "#####tirar piedra######"
   ]
  },
  {
   "cell_type": "code",
   "execution_count": 16,
   "id": "e9d0e4d9",
   "metadata": {},
   "outputs": [
    {
     "name": "stderr",
     "output_type": "stream",
     "text": [
      "\u001b[33m[ WARN] [1668661567.077538800, 2567.268000000]: TF_REPEATED_DATA ignoring data with redundant timestamp for frame odom at time 2567.301000 according to authority unknown_publisher\u001b[0m\n",
      "\u001b[33m[ WARN] [1668661573.531042610, 2568.548000000]: TF_REPEATED_DATA ignoring data with redundant timestamp for frame odom at time 2568.548000 according to authority unknown_publisher\u001b[0m\n",
      "\u001b[33m[ WARN] [1668661605.481974457, 2574.753000000]: TF_REPEATED_DATA ignoring data with redundant timestamp for frame odom at time 2574.753000 according to authority unknown_publisher\u001b[0m\n",
      "\u001b[33m[ WARN] [1668661609.778373815, 2575.985000000]: TF_REPEATED_DATA ignoring data with redundant timestamp for frame odom at time 2576.007000 according to authority unknown_publisher\u001b[0m\n",
      "\u001b[33m[ WARN] [1668661621.955797070, 2578.581000000]: TF_REPEATED_DATA ignoring data with redundant timestamp for frame odom at time 2578.581000 according to authority unknown_publisher\u001b[0m\n"
     ]
    },
    {
     "data": {
      "text/plain": [
       "True"
      ]
     },
     "execution_count": 16,
     "metadata": {},
     "output_type": "execute_result"
    },
    {
     "name": "stderr",
     "output_type": "stream",
     "text": [
      "\u001b[33m[ WARN] [1668661635.154715455, 2581.629000000]: TF_REPEATED_DATA ignoring data with redundant timestamp for frame odom at time 2581.690000 according to authority unknown_publisher\u001b[0m\n"
     ]
    }
   ],
   "source": [
    "joint_goal = arm.get_current_joint_values()\n",
    "joint_goal[0] = 0.45\n",
    "\n",
    "arm.set_joint_value_target(joint_goal)\n",
    "arm.go()"
   ]
  },
  {
   "cell_type": "code",
   "execution_count": 17,
   "id": "b4638dc0",
   "metadata": {},
   "outputs": [
    {
     "name": "stderr",
     "output_type": "stream",
     "text": [
      "\u001b[33m[ WARN] [1668661662.743431283, 2588.272000000]: TF_REPEATED_DATA ignoring data with redundant timestamp for frame odom at time 2588.292000 according to authority unknown_publisher\u001b[0m\n",
      "\u001b[33m[ WARN] [1668661712.678019555, 2598.378000000]: TF_REPEATED_DATA ignoring data with redundant timestamp for frame odom at time 2598.398000 according to authority unknown_publisher\u001b[0m\n"
     ]
    },
    {
     "data": {
      "text/plain": [
       "True"
      ]
     },
     "execution_count": 17,
     "metadata": {},
     "output_type": "execute_result"
    },
    {
     "name": "stderr",
     "output_type": "stream",
     "text": [
      "\u001b[33m[ WARN] [1668661767.633273700, 2609.920000000]: TF_REPEATED_DATA ignoring data with redundant timestamp for frame odom at time 2609.945000 according to authority unknown_publisher\u001b[0m\n",
      "\u001b[33m[ WARN] [1668661779.888475473, 2612.446000000]: TF_REPEATED_DATA ignoring data with redundant timestamp for frame odom at time 2612.475000 according to authority unknown_publisher\u001b[0m\n",
      "\u001b[33m[ WARN] [1668661784.190001505, 2613.375000000]: TF_REPEATED_DATA ignoring data with redundant timestamp for frame odom at time 2613.375000 according to authority unknown_publisher\u001b[0m\n",
      "\u001b[33m[ WARN] [1668661784.781982529, 2613.510000000]: TF_REPEATED_DATA ignoring data with redundant timestamp for frame odom at time 2613.577000 according to authority unknown_publisher\u001b[0m\n",
      "\u001b[33m[ WARN] [1668661792.194277314, 2615.196000000]: TF_REPEATED_DATA ignoring data with redundant timestamp for frame odom at time 2615.244000 according to authority unknown_publisher\u001b[0m\n"
     ]
    }
   ],
   "source": [
    "joint_goal = arm.get_current_joint_values()\n",
    "joint_goal[1] = -2.1\n",
    "\n",
    "arm.set_joint_value_target(joint_goal)\n",
    "arm.go()"
   ]
  },
  {
   "cell_type": "code",
   "execution_count": 18,
   "id": "0a11b119",
   "metadata": {},
   "outputs": [
    {
     "name": "stderr",
     "output_type": "stream",
     "text": [
      "\u001b[33m[ WARN] [1668661848.084377892, 2625.200000000]: TF_REPEATED_DATA ignoring data with redundant timestamp for frame odom at time 2625.200000 according to authority unknown_publisher\u001b[0m\n"
     ]
    },
    {
     "data": {
      "text/plain": [
       "True"
      ]
     },
     "execution_count": 18,
     "metadata": {},
     "output_type": "execute_result"
    }
   ],
   "source": [
    "joint_goal = arm.get_current_joint_values()\n",
    "joint_goal[3] = -1.05\n",
    "\n",
    "arm.set_joint_value_target(joint_goal)\n",
    "arm.go()"
   ]
  },
  {
   "cell_type": "code",
   "execution_count": 19,
   "id": "6abe6506",
   "metadata": {},
   "outputs": [
    {
     "name": "stderr",
     "output_type": "stream",
     "text": [
      "\u001b[33m[ WARN] [1668661878.531465768, 2633.691000000]: TF_REPEATED_DATA ignoring data with redundant timestamp for frame odom at time 2633.691000 according to authority unknown_publisher\u001b[0m\n",
      "\u001b[33m[ WARN] [1668661892.396736567, 2637.657000000]: TF_REPEATED_DATA ignoring data with redundant timestamp for frame odom at time 2637.657000 according to authority unknown_publisher\u001b[0m\n",
      "\u001b[33m[ WARN] [1668661903.858992580, 2640.917000000]: TF_REPEATED_DATA ignoring data with redundant timestamp for frame odom at time 2640.917000 according to authority unknown_publisher\u001b[0m\n",
      "\u001b[33m[ WARN] [1668661912.390161776, 2643.117000000]: TF_REPEATED_DATA ignoring data with redundant timestamp for frame odom at time 2643.132000 according to authority unknown_publisher\u001b[0m\n"
     ]
    }
   ],
   "source": [
    "grip.open()"
   ]
  },
  {
   "cell_type": "code",
   "execution_count": null,
   "id": "063fcb53",
   "metadata": {},
   "outputs": [],
   "source": [
    "joint_goal = arm.get_current_joint_values()\n",
    "joint_goal[3] = 0.0\n",
    "\n",
    "arm.set_joint_value_target(joint_goal)\n",
    "arm.go()"
   ]
  },
  {
   "cell_type": "code",
   "execution_count": null,
   "id": "29a38958",
   "metadata": {},
   "outputs": [],
   "source": [
    "### hacerse hacia atras ####"
   ]
  },
  {
   "cell_type": "code",
   "execution_count": null,
   "id": "9c115659",
   "metadata": {},
   "outputs": [],
   "source": [
    "joint_goal = arm.get_current_joint_values()\n",
    "joint_goal[0] = 0.0\n",
    "joint_goal[1] = 0.0\n",
    "joint_goal[2] = 0.0\n",
    "joint_goal[3] = 0.0\n",
    "joint_goal[4] = 0.0\n",
    "joint_goal[5] = 0.0\n",
    "\n",
    "arm.set_joint_value_target(joint_goal)\n",
    "arm.go()"
   ]
  },
  {
   "cell_type": "code",
   "execution_count": null,
   "id": "e99134a3",
   "metadata": {},
   "outputs": [],
   "source": [
    "#####buscamos mas piedras y repetimos#####"
   ]
  },
  {
   "cell_type": "code",
   "execution_count": null,
   "id": "c4b6c169",
   "metadata": {},
   "outputs": [],
   "source": []
  },
  {
   "cell_type": "code",
   "execution_count": null,
   "id": "37c32fe6",
   "metadata": {},
   "outputs": [],
   "source": []
  }
 ],
 "metadata": {
  "kernelspec": {
   "display_name": "Python 3 (ipykernel)",
   "language": "python",
   "name": "python3"
  },
  "language_info": {
   "codemirror_mode": {
    "name": "ipython",
    "version": 3
   },
   "file_extension": ".py",
   "mimetype": "text/x-python",
   "name": "python",
   "nbconvert_exporter": "python",
   "pygments_lexer": "ipython3",
   "version": "3.8.10"
  }
 },
 "nbformat": 4,
 "nbformat_minor": 5
}
