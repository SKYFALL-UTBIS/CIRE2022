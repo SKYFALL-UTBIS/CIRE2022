{
 "cells": [
  {
   "cell_type": "code",
   "execution_count": 1,
   "metadata": {},
   "outputs": [],
   "source": [
    "from std_srvs.srv import Empty, Trigger, TriggerRequest\n"
   ]
  },
  {
   "cell_type": "code",
   "execution_count": 2,
   "metadata": {},
   "outputs": [],
   "source": [
    "from cv_bridge import CvBridge, CvBridgeError\n",
    "import rospy\n",
    "#import cv2\n",
    "import ros_numpy\n",
    "import numpy as np\n",
    "#from tmc_tabletop_segmentator.srv import TabletopSegmentation\n",
    "#from tmc_tabletop_segmentator.srv import TabletopSegmentationRequest Tmc tabletop deprecated\n",
    "from sensor_msgs.msg import Image\n",
    "from std_msgs.msg import String\n",
    "import tf\n",
    "import tf2_ros\n",
    "import geometry_msgs.msg\n",
    "from utils_notebooks import *\n"
   ]
  },
  {
   "cell_type": "code",
   "execution_count": 3,
   "metadata": {},
   "outputs": [],
   "source": [
    "%matplotlib inline\n",
    "\n",
    "import matplotlib.pyplot as plt\n",
    "import numpy as np\n",
    "import ros_numpy\n",
    "import rospy\n",
    "import tf\n",
    "from gazebo_ros import gazebo_interface\n",
    "from sensor_msgs.msg import LaserScan, PointCloud2\n",
    "from geometry_msgs.msg import Pose, Quaternion ,TransformStamped\n",
    "import moveit_commander\n",
    "import moveit_msgs.msg\n",
    "\n",
    "import sys\n",
    "\n",
    "from utils_notebooks import *\n",
    "#from utils_task1 import *\n",
    "import cv2\n",
    "import os"
   ]
  },
  {
   "cell_type": "code",
   "execution_count": 4,
   "metadata": {},
   "outputs": [
    {
     "data": {
      "text/plain": [
       "'4.2.0'"
      ]
     },
     "execution_count": 4,
     "metadata": {},
     "output_type": "execute_result"
    }
   ],
   "source": [
    "\n",
    "\n",
    "cv2.__version__\n",
    "\n",
    "#"
   ]
  },
  {
   "cell_type": "code",
   "execution_count": null,
   "metadata": {
    "tags": [
     "{",
     "\"tags\":",
     "[",
     "\"hide-cell\"",
     "]",
     "}"
    ]
   },
   "outputs": [],
   "source": []
  },
  {
   "cell_type": "code",
   "execution_count": 5,
   "metadata": {},
   "outputs": [],
   "source": [
    "def rot_to_euler(R):\n",
    "    import sys\n",
    "    import math as m\n",
    "    tol = sys.float_info.epsilon * 10\n",
    "\n",
    "    if abs(R.item(0,0))< tol and abs(R.item(1,0)) < tol:\n",
    "       eul1 = 0\n",
    "       eul2 = m.atan2(-R.item(2,0), R.item(0,0))\n",
    "       eul3 = m.atan2(-R.item(1,2), R.item(1,1))\n",
    "    else:   \n",
    "       eul1 = m.atan2(R.item(1,0),R.item(0,0))\n",
    "       sp = m.sin(eul1)\n",
    "       cp = m.cos(eul1)\n",
    "       eul2 = m.atan2(-R.item(2,0),cp*R.item(0,0)+sp*R.item(1,0))\n",
    "       eul3 = m.atan2(sp*R.item(0,2)-cp*R.item(1,2),cp*R.item(1,1)-sp*R.item(0,1))\n",
    "\n",
    "    return np.asarray((eul1,eul2,eul3))\n",
    "def pca_xyz(xyz):\n",
    "    quats=[]\n",
    "    for i in range( len(xyz)):\n",
    "        pca= PCA(n_components=3).fit(xyz[i])\n",
    "        vec0= pca.components_[0,:]\n",
    "        vec1= pca.components_[1,:]\n",
    "        vec2= pca.components_[2,:]\n",
    "        R=pca.components_\n",
    "        euler=rot_to_euler(R)\n",
    "        quats.append(tf.transformations.quaternion_from_euler(euler[0],euler[1],euler[2]))\n",
    "    return quats"
   ]
  },
  {
   "cell_type": "code",
   "execution_count": 6,
   "metadata": {},
   "outputs": [],
   "source": [
    "def rot_to_euler(R):\n",
    "    import sys\n",
    "    tol = sys.float_info.epsilon * 10\n",
    "\n",
    "    if abs(R.item(0,0))< tol and abs(R.item(1,0)) < tol:\n",
    "       eul1 = 0\n",
    "       eul2 = m.atan2(-R.item(2,0), R.item(0,0))\n",
    "       eul3 = m.atan2(-R.item(1,2), R.item(1,1))\n",
    "    else:   \n",
    "       eul1 = m.atan2(R.item(1,0),R.item(0,0))\n",
    "       sp = m.sin(eul1)\n",
    "       cp = m.cos(eul1)\n",
    "       eul2 = m.atan2(-R.item(2,0),cp*R.item(0,0)+sp*R.item(1,0))\n",
    "       eul3 = m.atan2(sp*R.item(0,2)-cp*R.item(1,2),cp*R.item(1,1)-sp*R.item(0,1))\n",
    "\n",
    "    return np.asarray((eul1,eul2,eul3))\n",
    "def pca_xyz(xyz):\n",
    "    quats=[]\n",
    "    for i in range( len(xyz)):\n",
    "        pca= PCA(n_components=3).fit(xyz[i])\n",
    "        vec0= pca.components_[0,:]\n",
    "        vec1= pca.components_[1,:]\n",
    "        vec2= pca.components_[2,:]\n",
    "        R=pca.components_\n",
    "        euler=rot_to_euler(R)\n",
    "        quats.append(tf.transformations.quaternion_from_euler(euler[0],euler[1],euler[2]))\n",
    "    return quats\n",
    "def static_tf_publish(cents, quaternions=[],label=''):\n",
    "    if (len(quaternions))==0:\n",
    "        quats=np.zeros((len(cents),4)) \n",
    "        quats[:,3]=1\n",
    "        #print quats\n",
    "    else:\n",
    "        quats=np.asarray(quaternions)\n",
    "        #print quats\n",
    "    for  i ,cent  in enumerate(cents):\n",
    "        x,y,z=cent\n",
    "        if np.isnan(x) or np.isnan(y) or np.isnan(z):\n",
    "            print('nan , rejected')\n",
    "        else:\n",
    "            #### first place a dissolving tf wrt head sensor  in centroids\n",
    "\n",
    "            broadcaster.sendTransform((x,y,z),(0,0,0,1), rospy.Time.now(), 'Object'+str(i),\"head_rgbd_sensor_link\")\n",
    "            rospy.sleep(.2)\n",
    "            \n",
    "            #### then place each centr wrt map\n",
    "            xyz_map,cent_quat= listener.lookupTransform('/map', 'Object'+str(i),rospy.Time(0))\n",
    "            map_euler=tf.transformations.euler_from_quaternion(cent_quat)\n",
    "            rospy.sleep(.2)\n",
    "            static_transformStamped = TransformStamped()\n",
    "\n",
    "            ##FIXING TF TO MAP ( ODOM REALLY)    \n",
    "            #tf_broadcaster1.sendTransform( (xyz[0],xyz[1],xyz[2]),tf.transformations.quaternion_from_euler(0, 0, 0), rospy.Time.now(), \"obj\"+str(ind), \"head_rgbd_sensor_link\")\n",
    "            ## Finally boiradcast a static tf  in cents and with quaternion found  in pca\n",
    "            if xyz_map[-1] <.2:\n",
    "                static_transformStamped.header.stamp = rospy.Time.now()\n",
    "                static_transformStamped.header.frame_id = \"map\"\n",
    "                static_transformStamped.child_frame_id = \"Floor_Object\"+str(i)+label \n",
    "                static_transformStamped.transform.translation.x = float(xyz_map[0])\n",
    "                static_transformStamped.transform.translation.y = float(xyz_map[1])\n",
    "                static_transformStamped.transform.translation.z = float(xyz_map[2])\n",
    "                #quat = tf.transformations.quaternion_from_euler(-euler[0],0,1.5)\n",
    "                static_transformStamped.transform.rotation.x = quats [i,0]#-quat[0]#trans.transform.rotation.x\n",
    "                static_transformStamped.transform.rotation.y = quats [i,1]#-quat[1]#trans.transform.rotation.y\n",
    "                static_transformStamped.transform.rotation.z = quats [i,2]#-quat[2]#trans.transform.rotation.z\n",
    "                static_transformStamped.transform.rotation.w = quats [i,3]#-quat[3]#trans.transform.rotation.w\n",
    "\n",
    "\n",
    "                tf_static_broadcaster.sendTransform(static_transformStamped)\n",
    "                print ('images[]',i)\n",
    "            if    (xyz_map[-1] >.4)and (xyz_map[-1] <.5):\n",
    "                static_transformStamped.header.stamp = rospy.Time.now()\n",
    "                static_transformStamped.header.frame_id = \"map\"\n",
    "                static_transformStamped.child_frame_id = \"Table_Object\"+str(i)+label \n",
    "                static_transformStamped.transform.translation.x = float(xyz_map[0])\n",
    "                static_transformStamped.transform.translation.y = float(xyz_map[1])\n",
    "                static_transformStamped.transform.translation.z = float(xyz_map[2])\n",
    "                #quat = tf.transformations.quaternion_from_euler(-euler[0],0,1.5)\n",
    "                static_transformStamped.transform.rotation.x = quats [i,0]#-quat[0]#trans.transform.rotation.x\n",
    "                static_transformStamped.transform.rotation.y = quats [i,1]#-quat[1]#trans.transform.rotation.y\n",
    "                static_transformStamped.transform.rotation.z = quats [i,2]#-quat[2]#trans.transform.rotation.z\n",
    "                static_transformStamped.transform.rotation.w = quats [i,3]#-quat[3]#trans.transform.rotation.w\n",
    "\n",
    "\n",
    "                tf_static_broadcaster.sendTransform(static_transformStamped)\n",
    "                print ('images[]',i)\n",
    "    return True\n"
   ]
  },
  {
   "cell_type": "code",
   "execution_count": 7,
   "metadata": {},
   "outputs": [],
   "source": [
    "\n",
    "rospy.init_node(\"recognition\")\n"
   ]
  },
  {
   "cell_type": "code",
   "execution_count": null,
   "metadata": {},
   "outputs": [],
   "source": []
  },
  {
   "cell_type": "code",
   "execution_count": 8,
   "metadata": {},
   "outputs": [],
   "source": [
    "clear_octo_client = rospy.ServiceProxy('/clear_octomap', Empty)\n",
    "\n",
    "clear_octo_client.wait_for_service(timeout=1.0)\n"
   ]
  },
  {
   "cell_type": "code",
   "execution_count": 9,
   "metadata": {},
   "outputs": [],
   "source": [
    "# initialize ROS publisher\n",
    "pub = rospy.Publisher('goal', PoseStamped, queue_size=10)\n",
    "goal = MoveBaseGoal()\n",
    "navclient = actionlib.SimpleActionClient('/move_base/move', MoveBaseAction)\n",
    "    \n",
    "# wait to establish connection between the navigation interface\n",
    "# move_base and navigation_log_recorder node\n",
    "def move_base(goal_x,goal_y,goal_yaw,time_out=10):\n",
    "    pose = PoseStamped()\n",
    "    pose.header.stamp = rospy.Time.now()\n",
    "    pose.header.frame_id = \"map\"\n",
    "    pose.pose.position = Point(goal_x, goal_y, 0)\n",
    "    quat = tf.transformations.quaternion_from_euler(0, 0, goal_yaw)\n",
    "    pose.pose.orientation = Quaternion(*quat)\n",
    "\n",
    "\n",
    "    # create a MOVE BASE GOAL\n",
    "    goal = MoveBaseGoal()\n",
    "    goal.target_pose = pose\n",
    "\n",
    "    # send message to the action server\n",
    "    navclient.send_goal(goal)\n",
    "\n",
    "    # wait for the action server to complete the order\n",
    "    navclient.wait_for_result(timeout=rospy.Duration(time_out))\n",
    "\n",
    "    # print result of navigation\n",
    "    action_state = navclient.get_state()\n",
    "    return navclient.get_state()"
   ]
  },
  {
   "cell_type": "code",
   "execution_count": null,
   "metadata": {},
   "outputs": [],
   "source": []
  },
  {
   "cell_type": "code",
   "execution_count": 10,
   "metadata": {},
   "outputs": [],
   "source": [
    "def seg_pca(lower=2000,higher=50000,reg_ly=0,reg_hy=1000,plt_images=False): \n",
    "    image= rgbd.get_h_image()\n",
    "    iimmg= rgbd.get_image()\n",
    "    points_data= rgbd.get_points()\n",
    "    values=image.reshape((-1,3))\n",
    "    values= np.float32(values)\n",
    "    criteria= (  cv2.TERM_CRITERIA_EPS + cv2.TERM_CRITERIA_MAX_ITER  ,1000,0.1)\n",
    "    k=6\n",
    "    _ , labels , cc =cv2.kmeans(values , k ,None,criteria,30,cv2.KMEANS_RANDOM_CENTERS)\n",
    "    cc=np.uint8(cc)\n",
    "    segmented_image= cc[labels.flatten()]\n",
    "    segmented_image=segmented_image.reshape(image.shape)\n",
    "    th3 = cv2.adaptiveThreshold(segmented_image,255,cv2.ADAPTIVE_THRESH_GAUSSIAN_C,cv2.THRESH_BINARY,11,2)\n",
    "    kernel = np.ones((5,5),np.uint8)\n",
    "    im4=cv2.erode(th3,kernel,iterations=4)\n",
    "    plane_mask=points_data['z']\n",
    "    cv2_img=plane_mask.astype('uint8')\n",
    "    img=im4\n",
    "    contours, hierarchy = cv2.findContours(im4.astype('uint8'),cv2.RETR_TREE,cv2.CHAIN_APPROX_SIMPLE)\n",
    "    i=0\n",
    "    cents=[]\n",
    "    points=[]\n",
    "    images=[]\n",
    "    for i, contour in enumerate(contours):\n",
    "        \n",
    "        area = cv2.contourArea(contour)\n",
    "\n",
    "        if area > lower and area < higher :\n",
    "            M = cv2.moments(contour)\n",
    "            # calculate x,y coordinate of center\n",
    "            cX = int(M[\"m10\"] / M[\"m00\"])\n",
    "            cY = int(M[\"m01\"] / M[\"m00\"])\n",
    "            \n",
    "    \n",
    "            boundRect = cv2.boundingRect(contour)\n",
    "            #just for drawing rect, dont waste too much time on this\n",
    "            image_aux= iimmg[boundRect[1]:boundRect[1]+boundRect[3],boundRect[0]:boundRect[0]+boundRect[2]]\n",
    "            images.append(image_aux)\n",
    "            img=cv2.rectangle(img,(boundRect[0], boundRect[1]),(boundRect[0]+boundRect[2], boundRect[1]+boundRect[3]), (0,0,0), 2)\n",
    "            # calculate moments for each contour\n",
    "            if (cY > reg_ly and cY < reg_hy  ):\n",
    "                \n",
    "                cv2.circle(img, (cX, cY), 5, (255, 255, 255), -1)\n",
    "                cv2.putText(img, \"centroid_\"+str(i)+\"_\"+str(cX)+','+str(cY)    ,    (cX - 25, cY - 25)   ,cv2.FONT_HERSHEY_SIMPLEX, 0.9, (0, 0, 0), 2)\n",
    "                print ('cX,cY',cX,cY)\n",
    "                xyz=[]\n",
    "\n",
    "\n",
    "                for jy in range (boundRect[0], boundRect[0]+boundRect[2]):\n",
    "                    for ix in range(boundRect[1], boundRect[1]+boundRect[3]):\n",
    "                        aux=(np.asarray((points_data['x'][ix,jy],points_data['y'][ix,jy],points_data['z'][ix,jy])))\n",
    "                        if np.isnan(aux[0]) or np.isnan(aux[1]) or np.isnan(aux[2]):\n",
    "                            'reject point'\n",
    "                        else:\n",
    "                            xyz.append(aux)\n",
    "\n",
    "                xyz=np.asarray(xyz)\n",
    "                cent=xyz.mean(axis=0)\n",
    "                cents.append(cent)\n",
    "                print (cent)\n",
    "                points.append(xyz)\n",
    "            else:\n",
    "                print ('cent out of region... rejected')\n",
    "    sub_plt=0\n",
    "    if plt_images:\n",
    "        for image in images:\n",
    "\n",
    "            sub_plt+=1\n",
    "            ax = plt.subplot(5, 5, sub_plt )\n",
    "\n",
    "            plt.imshow(image)\n",
    "            plt.axis(\"off\")\n",
    "\n",
    "    cents=np.asarray(cents)\n",
    "    ### returns centroids found and a group of 3d coordinates that conform the centroid\n",
    "    return(cents,np.asarray(points), images)"
   ]
  },
  {
   "cell_type": "code",
   "execution_count": null,
   "metadata": {},
   "outputs": [],
   "source": [
    "##### MOVERNOS######"
   ]
  },
  {
   "cell_type": "code",
   "execution_count": null,
   "metadata": {},
   "outputs": [],
   "source": [
    "######  ATRAS ###3"
   ]
  },
  {
   "cell_type": "code",
   "execution_count": 20,
   "metadata": {},
   "outputs": [
    {
     "data": {
      "text/plain": [
       "1"
      ]
     },
     "execution_count": 20,
     "metadata": {},
     "output_type": "execute_result"
    }
   ],
   "source": [
    "move_base(-1.5,1,0,3)"
   ]
  },
  {
   "cell_type": "code",
   "execution_count": null,
   "metadata": {},
   "outputs": [],
   "source": [
    "#### DISCO GRANDE ####"
   ]
  },
  {
   "cell_type": "code",
   "execution_count": 19,
   "metadata": {},
   "outputs": [
    {
     "data": {
      "text/plain": [
       "1"
      ]
     },
     "execution_count": 19,
     "metadata": {},
     "output_type": "execute_result"
    }
   ],
   "source": [
    "move_base(1.2,1,0,3)"
   ]
  },
  {
   "cell_type": "code",
   "execution_count": null,
   "metadata": {},
   "outputs": [],
   "source": [
    "### DISCO CHICO####"
   ]
  },
  {
   "cell_type": "code",
   "execution_count": 35,
   "metadata": {},
   "outputs": [
    {
     "data": {
      "text/plain": [
       "1"
      ]
     },
     "execution_count": 35,
     "metadata": {},
     "output_type": "execute_result"
    }
   ],
   "source": [
    "move_base(1,3,0,3)"
   ]
  },
  {
   "cell_type": "code",
   "execution_count": null,
   "metadata": {},
   "outputs": [],
   "source": [
    "##### PIEDRAS ATRAS ######"
   ]
  },
  {
   "cell_type": "code",
   "execution_count": 18,
   "metadata": {},
   "outputs": [
    {
     "data": {
      "text/plain": [
       "1"
      ]
     },
     "execution_count": 18,
     "metadata": {},
     "output_type": "execute_result"
    }
   ],
   "source": [
    "move_base(-2,4,0,3)"
   ]
  },
  {
   "cell_type": "code",
   "execution_count": null,
   "metadata": {},
   "outputs": [],
   "source": [
    "##### REGRESO 0,0 #####"
   ]
  },
  {
   "cell_type": "code",
   "execution_count": 12,
   "metadata": {},
   "outputs": [
    {
     "data": {
      "text/plain": [
       "1"
      ]
     },
     "execution_count": 12,
     "metadata": {},
     "output_type": "execute_result"
    }
   ],
   "source": [
    "move_base(0,0,0,3)"
   ]
  }
 ],
 "metadata": {
  "kernelspec": {
   "display_name": "Python 3 (ipykernel)",
   "language": "python",
   "name": "python3"
  },
  "language_info": {
   "codemirror_mode": {
    "name": "ipython",
    "version": 3
   },
   "file_extension": ".py",
   "mimetype": "text/x-python",
   "name": "python",
   "nbconvert_exporter": "python",
   "pygments_lexer": "ipython3",
   "version": "3.8.10"
  },
  "nbTranslate": {
   "displayLangs": [
    "ja"
   ],
   "hotkey": "alt-t",
   "langInMainMenu": true,
   "sourceLang": "ja",
   "targetLang": "en",
   "useGoogleTranslate": true
  },
  "toc": {
   "base_numbering": 1,
   "nav_menu": {},
   "number_sections": true,
   "sideBar": true,
   "skip_h1_title": false,
   "title_cell": "Table of Contents",
   "title_sidebar": "Contents",
   "toc_cell": false,
   "toc_position": {},
   "toc_section_display": true,
   "toc_window_display": true
  }
 },
 "nbformat": 4,
 "nbformat_minor": 2
}
